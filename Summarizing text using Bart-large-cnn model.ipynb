{
 "cells": [
  {
   "cell_type": "code",
   "execution_count": 1,
   "id": "deefee59",
   "metadata": {},
   "outputs": [],
   "source": [
    "from transformers import pipeline\n",
    "import os"
   ]
  },
  {
   "cell_type": "code",
   "execution_count": 11,
   "id": "86f8e76a",
   "metadata": {
    "scrolled": true
   },
   "outputs": [
    {
     "name": "stderr",
     "output_type": "stream",
     "text": [
      "No model was supplied, defaulted to sshleifer/distilbart-cnn-12-6 and revision a4f8f3e (https://huggingface.co/sshleifer/distilbart-cnn-12-6).\n",
      "Using a pipeline without specifying a model name and revision in production is not recommended.\n"
     ]
    }
   ],
   "source": [
    "\n",
    "## Setting to use the 0th GPU\n",
    "os.environ[\"CUDA_VISIBLE_DEVICES\"] = \"0\"\n",
    "\n",
    "## Setting to use the bart-large-cnn model for summarization\n",
    "summarizer = pipeline(\"summarization\")"
   ]
  },
  {
   "cell_type": "code",
   "execution_count": 12,
   "id": "34398b87",
   "metadata": {},
   "outputs": [],
   "source": [
    "text = \"\"\"\n",
    "Goldman Sachs\n",
    " on Tuesday posted its largest earnings miss in a decade as revenue fell and expenses and loan loss provisions came in higher than expected.\n",
    "\n",
    "Here’s what the investment bank reported:\n",
    "\n",
    "Earnings: $3.32 per share vs. $5.48 estimate of analysts surveyed by Refinitiv\n",
    "Revenue: $10.59 billion vs. $10.83 billion\n",
    "Goldman said quarterly profit plunged 66% from a year earlier to $1.33 billion, or $3.32 per share, about 39% below the consensus estimate. That made for the largest EPS miss since October 2011, according to Refinitiv data.\n",
    "\n",
    "Revenue held up better, at $10.59 billion, down 16% from a year earlier and just below the estimate.\n",
    "\n",
    "Shares of New York-based Goldman fell more than 6% in early trading.\n",
    "\n",
    "“Widely expected to be awful, Goldman Sachs’ Q4 results were even more miserable than anticipated,” Octavio Marenzi, CEO of Wall Street consultancy Opimas, said in an email. “Revenues were largely in line with forecasts, but earnings took a big hit. The real problem lies in the fact that operating expenses shot up 11%, while revenues tumbled.”\n",
    "\n",
    "More cost-cutting and layoffs at Goldman could be ahead because of that, Marenzi said.\n",
    "\n",
    "Goldman said operating expenses jumped 11% from a year earlier, to $8.09 billion, due to higher compensation, benefits and transaction-based fees, among other reasons. That is about $800 million more than analysts had expected for quarterly costs.\n",
    "\n",
    "Analysts including Betsy Graseck of Morgan Stanley have flagged concerns that wage inflation would hit banks’ results in the fourth quarter.\n",
    "\n",
    "Another reason results disappointed: Goldman posted a $972 million provision for credit losses in the quarter, compared with $344 million a year earlier, as the bank set aside more funds for potential losses in credit card and point-of-sale loan portfolios. That is 50% more than analysts had expected for the quarter.\n",
    "\n",
    "The bank is seeing “early signs of consumer credit deterioration” as the economy slows and more borrowers are at risk of falling behind on payments, CFO Denis Coleman said Tuesday during a call with analysts.\n",
    "\n",
    "  \"\"\""
   ]
  },
  {
   "cell_type": "code",
   "execution_count": 14,
   "id": "dc111e91",
   "metadata": {
    "scrolled": false
   },
   "outputs": [
    {
     "name": "stdout",
     "output_type": "stream",
     "text": [
      " Goldman Sachs' quarterly profit plunged 66% from a year earlier to $1.33 billion, or $3.32 per share . That made for the largest earnings miss since October 2011, according to Refinitiv data . Operating expenses jumped 11% from year earlier, to $8.09 billion . Goldman Sachs is seeing “early signs of consumer credit deterioration” as economy slows, CFO says .\n"
     ]
    }
   ],
   "source": [
    "summary_text = summarizer(text, max_length=, min_length=5, do_sample=False)[0]['summary_text']\n",
    "print(summary_text)"
   ]
  }
 ],
 "metadata": {
  "kernelspec": {
   "display_name": "Python 3 (ipykernel)",
   "language": "python",
   "name": "python3"
  },
  "language_info": {
   "codemirror_mode": {
    "name": "ipython",
    "version": 3
   },
   "file_extension": ".py",
   "mimetype": "text/x-python",
   "name": "python",
   "nbconvert_exporter": "python",
   "pygments_lexer": "ipython3",
   "version": "3.9.12"
  }
 },
 "nbformat": 4,
 "nbformat_minor": 5
}
