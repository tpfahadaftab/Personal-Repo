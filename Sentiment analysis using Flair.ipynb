{
 "cells": [
  {
   "cell_type": "code",
   "execution_count": 19,
   "id": "19c26fd5",
   "metadata": {},
   "outputs": [],
   "source": [
    "import flair\n",
    "from flair.models import TextClassifier\n",
    "from flair.data import Sentence\n"
   ]
  },
  {
   "cell_type": "code",
   "execution_count": 20,
   "id": "13244331",
   "metadata": {},
   "outputs": [],
   "source": [
    "\n",
    "# Load the text classifier\n",
    "classifier = TextClassifier.load('en-sentiment')\n",
    "\n"
   ]
  },
  {
   "cell_type": "code",
   "execution_count": 21,
   "id": "429685ac",
   "metadata": {},
   "outputs": [],
   "source": [
    "# Open text file and read contents\n",
    "with open('file_name.txt', 'r', encoding='utf-8') as f:\n",
    "    text = f.read().replace('\\n', '')\n",
    "\n"
   ]
  },
  {
   "cell_type": "code",
   "execution_count": 22,
   "id": "dc54ff9c",
   "metadata": {},
   "outputs": [],
   "source": [
    "# Create a Flair Sentence object\n",
    "sentence = Sentence(text)\n",
    "\n"
   ]
  },
  {
   "cell_type": "code",
   "execution_count": 23,
   "id": "9506e912",
   "metadata": {},
   "outputs": [],
   "source": [
    "# Use the text classifier to predict the sentiment of the sentence\n",
    "classifier.predict(sentence)\n"
   ]
  },
  {
   "cell_type": "code",
   "execution_count": 24,
   "id": "387901d1",
   "metadata": {},
   "outputs": [
    {
     "name": "stdout",
     "output_type": "stream",
     "text": [
      "Sentiment: POSITIVE\n"
     ]
    }
   ],
   "source": [
    "\n",
    "# Print the predicted sentiment value\n",
    "print('Sentiment:', sentence.labels[0].value)\n"
   ]
  }
 ],
 "metadata": {
  "kernelspec": {
   "display_name": "Python 3 (ipykernel)",
   "language": "python",
   "name": "python3"
  },
  "language_info": {
   "codemirror_mode": {
    "name": "ipython",
    "version": 3
   },
   "file_extension": ".py",
   "mimetype": "text/x-python",
   "name": "python",
   "nbconvert_exporter": "python",
   "pygments_lexer": "ipython3",
   "version": "3.9.12"
  }
 },
 "nbformat": 4,
 "nbformat_minor": 5
}
